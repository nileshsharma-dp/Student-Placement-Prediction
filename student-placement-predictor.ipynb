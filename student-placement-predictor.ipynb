{
 "cells": [
  {
   "cell_type": "code",
   "execution_count": 1,
   "id": "a69b3232",
   "metadata": {},
   "outputs": [
    {
     "name": "stdout",
     "output_type": "stream",
     "text": [
      "numpy version:  1.26.4\n",
      "pandas version:  2.2.3\n",
      "sklearn version:  1.4.2\n",
      "Python version:  3.12.7 | packaged by Anaconda, Inc. | (main, Oct  4 2024, 13:17:27) [MSC v.1929 64 bit (AMD64)]\n"
     ]
    }
   ],
   "source": [
    "import numpy as np\n",
    "import pandas as pd\n",
    "import sklearn\n",
    "import pickle\n",
    "import sys\n",
    "\n",
    "print(\"numpy version: \", np.__version__)\n",
    "print(\"pandas version: \", pd.__version__)\n",
    "print(\"sklearn version: \", sklearn.__version__)\n",
    "print(\"Python version: \", sys.version)\n"
   ]
  },
  {
   "cell_type": "code",
   "execution_count": 2,
   "id": "39097193",
   "metadata": {},
   "outputs": [],
   "source": [
    "df = pd.read_csv('students_placement.csv')"
   ]
  },
  {
   "cell_type": "code",
   "execution_count": 3,
   "id": "44ecb891",
   "metadata": {},
   "outputs": [
    {
     "data": {
      "text/plain": [
       "(5000, 6)"
      ]
     },
     "execution_count": 3,
     "metadata": {},
     "output_type": "execute_result"
    }
   ],
   "source": [
    "df.shape"
   ]
  },
  {
   "cell_type": "code",
   "execution_count": 4,
   "id": "0102f6be",
   "metadata": {},
   "outputs": [
    {
     "data": {
      "text/html": [
       "<div>\n",
       "<style scoped>\n",
       "    .dataframe tbody tr th:only-of-type {\n",
       "        vertical-align: middle;\n",
       "    }\n",
       "\n",
       "    .dataframe tbody tr th {\n",
       "        vertical-align: top;\n",
       "    }\n",
       "\n",
       "    .dataframe thead th {\n",
       "        text-align: right;\n",
       "    }\n",
       "</style>\n",
       "<table border=\"1\" class=\"dataframe\">\n",
       "  <thead>\n",
       "    <tr style=\"text-align: right;\">\n",
       "      <th></th>\n",
       "      <th>iq</th>\n",
       "      <th>cgpa</th>\n",
       "      <th>10th_marks</th>\n",
       "      <th>12th_marks</th>\n",
       "      <th>communication_skills</th>\n",
       "      <th>placed</th>\n",
       "    </tr>\n",
       "  </thead>\n",
       "  <tbody>\n",
       "    <tr>\n",
       "      <th>3490</th>\n",
       "      <td>95</td>\n",
       "      <td>8.77</td>\n",
       "      <td>71.74</td>\n",
       "      <td>57.21</td>\n",
       "      <td>6.9</td>\n",
       "      <td>1</td>\n",
       "    </tr>\n",
       "    <tr>\n",
       "      <th>4646</th>\n",
       "      <td>79</td>\n",
       "      <td>8.00</td>\n",
       "      <td>90.29</td>\n",
       "      <td>66.36</td>\n",
       "      <td>5.8</td>\n",
       "      <td>1</td>\n",
       "    </tr>\n",
       "    <tr>\n",
       "      <th>3491</th>\n",
       "      <td>97</td>\n",
       "      <td>6.53</td>\n",
       "      <td>87.59</td>\n",
       "      <td>74.93</td>\n",
       "      <td>3.5</td>\n",
       "      <td>0</td>\n",
       "    </tr>\n",
       "    <tr>\n",
       "      <th>1156</th>\n",
       "      <td>90</td>\n",
       "      <td>7.34</td>\n",
       "      <td>75.97</td>\n",
       "      <td>66.89</td>\n",
       "      <td>6.1</td>\n",
       "      <td>0</td>\n",
       "    </tr>\n",
       "    <tr>\n",
       "      <th>1302</th>\n",
       "      <td>97</td>\n",
       "      <td>8.46</td>\n",
       "      <td>72.77</td>\n",
       "      <td>64.19</td>\n",
       "      <td>9.4</td>\n",
       "      <td>1</td>\n",
       "    </tr>\n",
       "  </tbody>\n",
       "</table>\n",
       "</div>"
      ],
      "text/plain": [
       "      iq  cgpa  10th_marks  12th_marks  communication_skills  placed\n",
       "3490  95  8.77       71.74       57.21                   6.9       1\n",
       "4646  79  8.00       90.29       66.36                   5.8       1\n",
       "3491  97  6.53       87.59       74.93                   3.5       0\n",
       "1156  90  7.34       75.97       66.89                   6.1       0\n",
       "1302  97  8.46       72.77       64.19                   9.4       1"
      ]
     },
     "execution_count": 4,
     "metadata": {},
     "output_type": "execute_result"
    }
   ],
   "source": [
    "df.sample(5)"
   ]
  },
  {
   "cell_type": "code",
   "execution_count": 5,
   "id": "bebb8518",
   "metadata": {},
   "outputs": [],
   "source": [
    "X = df.drop(columns=['placed'])\n",
    "y = df['placed']"
   ]
  },
  {
   "cell_type": "code",
   "execution_count": 6,
   "id": "7bf7d3ce",
   "metadata": {},
   "outputs": [],
   "source": [
    "from sklearn.model_selection import train_test_split\n",
    "X_train,X_test,y_train,y_test = train_test_split(X,y,test_size=0.2,random_state=2)"
   ]
  },
  {
   "cell_type": "code",
   "execution_count": 7,
   "id": "97dd7ede",
   "metadata": {},
   "outputs": [],
   "source": [
    "param_grid = {\n",
    "    'n_estimators': [100, 200, 300],\n",
    "    'max_depth': [None, 10, 20, 30],\n",
    "    'min_samples_split': [2, 5, 10],\n",
    "    'min_samples_leaf': [1, 2, 4]\n",
    "}"
   ]
  },
  {
   "cell_type": "code",
   "execution_count": 8,
   "id": "08abd989",
   "metadata": {},
   "outputs": [
    {
     "name": "stdout",
     "output_type": "stream",
     "text": [
      "Fitting 5 folds for each of 108 candidates, totalling 540 fits\n"
     ]
    }
   ],
   "source": [
    "from sklearn.ensemble import RandomForestClassifier\n",
    "from sklearn.model_selection import GridSearchCV\n",
    "\n",
    "# Create Random Forest Classifier\n",
    "rf = RandomForestClassifier(random_state=42)\n",
    "\n",
    "# Perform Grid Search with cross-validation\n",
    "grid_search = GridSearchCV(estimator=rf, param_grid=param_grid, cv=5, n_jobs=-1, verbose=2)\n",
    "grid_search.fit(X_train, y_train)\n",
    "\n",
    "# Get the best parameters\n",
    "best_rf = grid_search.best_estimator_"
   ]
  },
  {
   "cell_type": "code",
   "execution_count": 9,
   "id": "4cd4592e",
   "metadata": {},
   "outputs": [
    {
     "name": "stdout",
     "output_type": "stream",
     "text": [
      "-------------------------------------------------------------------------------- \n",
      "Accuracy RF (Default Params):  0.544 \n",
      " --------------------------------------------------------------------------------\n",
      "Accuracy RF (Best Params):  0.558 \n",
      " --------------------------------------------------------------------------------\n",
      "\n",
      "Classification Report (Best Params):\n",
      "               precision    recall  f1-score   support\n",
      "\n",
      "           0       0.49      0.34      0.40       436\n",
      "           1       0.59      0.73      0.65       564\n",
      "\n",
      "    accuracy                           0.56      1000\n",
      "   macro avg       0.54      0.53      0.53      1000\n",
      "weighted avg       0.54      0.56      0.54      1000\n",
      " --------------------------------------------------------------------------------\n",
      "\n",
      "Classification Report (Default Params):\n",
      "               precision    recall  f1-score   support\n",
      "\n",
      "           0       0.47      0.39      0.43       436\n",
      "           1       0.58      0.66      0.62       564\n",
      "\n",
      "    accuracy                           0.54      1000\n",
      "   macro avg       0.53      0.53      0.52      1000\n",
      "weighted avg       0.54      0.54      0.54      1000\n",
      " --------------------------------------------------------------------------------\n"
     ]
    }
   ],
   "source": [
    "from sklearn.metrics import accuracy_score\n",
    "from sklearn.metrics import classification_report\n",
    "\n",
    "# Fit the default RandomForest model\n",
    "rf.fit(X_train, y_train)\n",
    "y_pred = rf.predict(X_test)\n",
    "\n",
    "# Use the best parameters found by GridSearchCV\n",
    "y_pred_rf = best_rf.predict(X_test)\n",
    "\n",
    "# Accuracy and classification reports\n",
    "print(\"----\"*20,\"\\nAccuracy RF (Default Params): \", accuracy_score(y_test, y_pred), \"\\n\",\"----\" * 20)\n",
    "print(\"Accuracy RF (Best Params): \", accuracy_score(y_test, y_pred_rf), \"\\n\",\"----\" * 20)\n",
    "print(\"\\nClassification Report (Best Params):\\n\", classification_report(y_test, y_pred_rf), \"----\" * 20)\n",
    "print(\"\\nClassification Report (Default Params):\\n\", classification_report(y_test, y_pred), \"----\" * 20)\n"
   ]
  },
  {
   "cell_type": "code",
   "execution_count": 10,
   "id": "0238d8b0",
   "metadata": {},
   "outputs": [
    {
     "name": "stdout",
     "output_type": "stream",
     "text": [
      "Cross-validation scores:  [0.561 0.562 0.563 0.576 0.567]\n",
      "Mean cross-validation score:  0.5658\n"
     ]
    }
   ],
   "source": [
    "from sklearn.model_selection import cross_val_score\n",
    "scores = cross_val_score(best_rf, X, y, cv=5, scoring='accuracy')\n",
    "print(\"Cross-validation scores: \", scores)\n",
    "print(\"Mean cross-validation score: \", scores.mean())"
   ]
  },
  {
   "cell_type": "code",
   "execution_count": 11,
   "id": "38ec1510",
   "metadata": {},
   "outputs": [
    {
     "data": {
      "text/plain": [
       "0.525"
      ]
     },
     "execution_count": 11,
     "metadata": {},
     "output_type": "execute_result"
    }
   ],
   "source": [
    "from sklearn.neighbors import KNeighborsClassifier\n",
    "from sklearn.metrics import accuracy_score\n",
    "\n",
    "knn = KNeighborsClassifier(n_neighbors=15)\n",
    "knn.fit(X_train,y_train)\n",
    "y_pred = knn.predict(X_test)\n",
    "accuracy_score(y_test,y_pred)"
   ]
  },
  {
   "cell_type": "code",
   "execution_count": 12,
   "id": "a0e09263",
   "metadata": {},
   "outputs": [],
   "source": [
    "# from sklearn.model_selection import train_test_split, GridSearchCV, cross_val_score\n",
    "# from sklearn.ensemble import RandomForestClassifier\n",
    "# from sklearn.metrics import accuracy_score, classification_report\n",
    "# from sklearn.neighbors import KNeighborsClassifier\n",
    "\n",
    "# # Split data into training and testing\n",
    "# X_train, X_test, y_train, y_test = train_test_split(X, y, test_size=0.2, random_state=42)\n",
    "\n",
    "# # Random Forest Classifier with expanded parameter grid\n",
    "# param_grid = {\n",
    "#     'n_estimators': [100, 200, 300],\n",
    "#     'max_depth': [None, 10, 20, 30],\n",
    "#     'min_samples_split': [2, 5, 10],\n",
    "#     'min_samples_leaf': [1, 2, 4],\n",
    "#     'max_features': ['auto', 'sqrt', 'log2'],  # Added\n",
    "#     'max_samples': [None, 0.5, 0.8]  # Added\n",
    "# }\n",
    "\n",
    "# # Grid Search with Cross-validation for Random Forest\n",
    "# rf = RandomForestClassifier(random_state=42)\n",
    "# grid_search = GridSearchCV(estimator=rf, param_grid=param_grid, cv=5, n_jobs=-1, verbose=2)\n",
    "# grid_search.fit(X_train, y_train)\n",
    "\n",
    "# # Get best parameters and fit model\n",
    "# best_rf = grid_search.best_estimator_\n",
    "# y_pred_rf = best_rf.predict(X_test)\n",
    "\n",
    "# # Accuracy and Classification Report for Random Forest\n",
    "# print(\"Random Forest - Best Params\")\n",
    "# print(\"Accuracy: \", accuracy_score(y_test, y_pred_rf))\n",
    "# print(\"Classification Report:\\n\", classification_report(y_test, y_pred_rf))\n",
    "\n",
    "# # K-Nearest Neighbors (KNN) Model with Hyperparameter Tuning\n",
    "# knn = KNeighborsClassifier(n_neighbors=5, weights='distance', metric='euclidean')  # Example tuning\n",
    "# knn.fit(X_train, y_train)\n",
    "# y_pred_knn = knn.predict(X_test)\n",
    "\n",
    "# # Accuracy for KNN\n",
    "# print(\"\\nKNN Accuracy: \", accuracy_score(y_test, y_pred_knn))\n",
    "# print(\"KNN Classification Report:\\n\", classification_report(y_test, y_pred_knn))\n",
    "\n",
    "# # Cross-validation for Random Forest\n",
    "# cv_scores = cross_val_score(best_rf, X, y, cv=5, scoring='accuracy')\n",
    "# print(\"\\nCross-validation scores for Random Forest: \", cv_scores)\n",
    "# print(\"Mean Cross-validation score: \", cv_scores.mean())\n"
   ]
  },
  {
   "cell_type": "code",
   "execution_count": 13,
   "id": "52ce0f1a",
   "metadata": {},
   "outputs": [],
   "source": [
    "import pickle \n",
    "with open('model.pkl', 'wb') as file:\n",
    "    pickle.dump(knn, file)"
   ]
  }
 ],
 "metadata": {
  "kernelspec": {
   "display_name": "base",
   "language": "python",
   "name": "python3"
  },
  "language_info": {
   "codemirror_mode": {
    "name": "ipython",
    "version": 3
   },
   "file_extension": ".py",
   "mimetype": "text/x-python",
   "name": "python",
   "nbconvert_exporter": "python",
   "pygments_lexer": "ipython3",
   "version": "3.12.7"
  }
 },
 "nbformat": 4,
 "nbformat_minor": 5
}
